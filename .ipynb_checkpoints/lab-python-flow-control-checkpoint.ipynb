{
 "cells": [
  {
   "cell_type": "markdown",
   "id": "d3bfc191-8885-42ee-b0a0-bbab867c6f9f",
   "metadata": {
    "tags": []
   },
   "source": [
    "# Lab | Flow Control"
   ]
  },
  {
   "cell_type": "markdown",
   "id": "3851fcd1-cf98-4653-9c89-e003b7ec9400",
   "metadata": {},
   "source": [
    "## Exercise: Managing Customer Orders Optimized\n",
    "\n",
    "In the last lab, you were starting an online store that sells various products. To ensure smooth operations, you developed a program that manages customer orders and inventory.\n",
    "\n",
    "You did so without using flow control. Let's go a step further and improve this code.\n",
    "\n",
    "Follow the steps below to complete the exercise:\n",
    "\n",
    "1. Look at your code from the lab data structures, and improve repeated code with loops.\n",
    "\n",
    "2. Instead of asking the user to input the name of three products that a customer wants to order, do the following:\n",
    "    \n",
    "    a. Prompt the user to enter the name of a product that a customer wants to order.\n",
    "    \n",
    "    b. Add the product name to the \"customer_orders\" set.\n",
    "    \n",
    "    c. Ask the user if they want to add another product (yes/no).\n",
    "    \n",
    "    d. Continue the loop until the user does not want to add another product.\n",
    "\n",
    "3. Instead of updating the inventory by subtracting 1 from the quantity of each product, only do it for  the products that were ordered (those in \"customer_orders\")."
   ]
  },
  {
   "cell_type": "code",
   "execution_count": 22,
   "id": "18ec481b-8b37-4781-a07b-79599863291b",
   "metadata": {},
   "outputs": [
    {
     "name": "stdin",
     "output_type": "stream",
     "text": [
      "Enter inventory for t-shirt: 10\n",
      "Enter inventory for mug: 10\n",
      "Enter inventory for hat: 10\n",
      "Enter inventory for book: 10\n",
      "Enter inventory for keychain: 10\n"
     ]
    }
   ],
   "source": [
    "products = [\"t-shirt\",\"mug\",\"hat\",\"book\",\"keychain\"]\n",
    "inventory = {}\n",
    "for items in products:\n",
    "    stock = int(input(f\"Enter inventory for {items}:\"))\n",
    "    inventory[items] = stock"
   ]
  },
  {
   "cell_type": "code",
   "execution_count": 45,
   "id": "cbeb41cd-e912-47d3-a73e-fef6f0d5193e",
   "metadata": {},
   "outputs": [
    {
     "name": "stdin",
     "output_type": "stream",
     "text": [
      "Do you want to order a product ? Yes or No ? yes\n",
      "Enter a product to order:  book\n",
      "Do you want to order a product ? Yes or No ? yes\n",
      "Enter a product to order:  book\n",
      "Do you want to order a product ? Yes or No ? yes\n",
      "Enter a product to order:  hat\n",
      "Do you want to order a product ? Yes or No ? no\n"
     ]
    },
    {
     "name": "stdout",
     "output_type": "stream",
     "text": [
      "Your order is:{'book', 'hat'}\n"
     ]
    }
   ],
   "source": [
    "customer_orders = set()\n",
    "answer = input(\"Do you want to order a product ? Yes or No ?\").strip().lower()\n",
    "while answer == \"yes\":\n",
    "    product_ordered = input(\"Enter a product to order: \")\n",
    "    customer_orders.add(product_ordered)\n",
    "    answer = input(\"Do you want to order a product ? Yes or No ?\")\n",
    "    \n",
    "print(f\"Your order is:{customer_orders}\")"
   ]
  },
  {
   "cell_type": "code",
   "execution_count": 49,
   "id": "0b5c3322-a4a8-4386-9c04-982a7b5f24ec",
   "metadata": {},
   "outputs": [
    {
     "name": "stdout",
     "output_type": "stream",
     "text": [
      "t-shirt: 10\n",
      "mug: 10\n",
      "hat: 8\n",
      "book: 8\n",
      "keychain: 10\n"
     ]
    }
   ],
   "source": [
    "for i in customer_orders:\n",
    "    if i in customer_orders:\n",
    "        inventory[i] -= 1\n",
    "\n",
    "for item, quantity in inventory.items():\n",
    "    print(f\"{item}: {quantity}\")"
   ]
  }
 ],
 "metadata": {
  "kernelspec": {
   "display_name": "Python 3 (ipykernel)",
   "language": "python",
   "name": "python3"
  },
  "language_info": {
   "codemirror_mode": {
    "name": "ipython",
    "version": 3
   },
   "file_extension": ".py",
   "mimetype": "text/x-python",
   "name": "python",
   "nbconvert_exporter": "python",
   "pygments_lexer": "ipython3",
   "version": "3.12.4"
  }
 },
 "nbformat": 4,
 "nbformat_minor": 5
}
